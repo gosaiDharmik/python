{
 "cells": [
  {
   "cell_type": "markdown",
   "id": "ab56ad77",
   "metadata": {},
   "source": [
    "# Lab 2-function and Module Creation "
   ]
  },
  {
   "cell_type": "code",
   "execution_count": 4,
   "id": "dddd037e",
   "metadata": {},
   "outputs": [],
   "source": [
    "a=33\n",
    "b=200\n",
    "if b>a:\n",
    "    pass"
   ]
  },
  {
   "cell_type": "markdown",
   "id": "e036ffc2",
   "metadata": {},
   "source": [
    "Function is block of code"
   ]
  },
  {
   "cell_type": "code",
   "execution_count": 5,
   "id": "bd504428",
   "metadata": {},
   "outputs": [
    {
     "name": "stdout",
     "output_type": "stream",
     "text": [
      "value is  10\n"
     ]
    }
   ],
   "source": [
    "def show(n):\n",
    "    print(\"value is \",n)\n",
    "a=10\n",
    "show(a)"
   ]
  },
  {
   "cell_type": "code",
   "execution_count": 7,
   "id": "257ce461",
   "metadata": {},
   "outputs": [
    {
     "name": "stdout",
     "output_type": "stream",
     "text": [
      "Hellow Mr.s.c.bose,Good Morning!\n"
     ]
    }
   ],
   "source": [
    "def greetings(s):\n",
    "    print(f\"Hellow Mr.{s},Good Morning!\")\n",
    "greetings(\"s.c.bose\")"
   ]
  },
  {
   "cell_type": "code",
   "execution_count": 11,
   "id": "4ae04bba",
   "metadata": {},
   "outputs": [
    {
     "name": "stdout",
     "output_type": "stream",
     "text": [
      "Hello Bardoli\n"
     ]
    }
   ],
   "source": [
    "def say_hello():\n",
    "    print(\"Hello Bardoli\")\n",
    "say_hello()"
   ]
  },
  {
   "cell_type": "code",
   "execution_count": 12,
   "id": "73600844",
   "metadata": {},
   "outputs": [
    {
     "data": {
      "text/plain": [
       "30"
      ]
     },
     "execution_count": 12,
     "metadata": {},
     "output_type": "execute_result"
    }
   ],
   "source": [
    "def add(n1,n2):\n",
    "    return n1+n2\n",
    "add(10,20)"
   ]
  },
  {
   "cell_type": "markdown",
   "id": "948ab55d",
   "metadata": {},
   "source": [
    "W.A.P to check number even or odd"
   ]
  },
  {
   "cell_type": "code",
   "execution_count": 18,
   "id": "e308a947",
   "metadata": {},
   "outputs": [
    {
     "name": "stdout",
     "output_type": "stream",
     "text": [
      "Enter the number to check odd or even2\n",
      "2 Number is even\n"
     ]
    }
   ],
   "source": [
    "num = int(input(\"Enter the number to check odd or even\"))\n",
    "\n",
    "def find_oddeven(num):\n",
    "    if num%2==0:\n",
    "        print(\"{} Number is even\".format(num))\n",
    "    else:\n",
    "        print(\"{} Number is odd\".format(num))\n",
    "find_oddeven(num)\n",
    "            "
   ]
  },
  {
   "cell_type": "code",
   "execution_count": 27,
   "id": "1cf0aa32",
   "metadata": {},
   "outputs": [
    {
     "name": "stdout",
     "output_type": "stream",
     "text": [
      "sum is 12,mul is 20,sub is 8, Division is 5.0\n"
     ]
    }
   ],
   "source": [
    "def ans(a,b):\n",
    "    add= a+b\n",
    "    mul= a*b\n",
    "    sub= a-b\n",
    "    div= a/b\n",
    "    print(f\"sum is {add},mul is {mul},sub is {sub}, Division is {div}\")\n",
    "ans(10,2)\n",
    "\n",
    "\n"
   ]
  },
  {
   "cell_type": "code",
   "execution_count": 31,
   "id": "fc66294b",
   "metadata": {},
   "outputs": [
    {
     "name": "stdout",
     "output_type": "stream",
     "text": [
      "Enter the num4\n",
      "16\n"
     ]
    }
   ],
   "source": [
    "def sqr(num):\n",
    "    return num**2\n",
    "num=int(input(\"Enter the num\"))\n",
    "print(sqr(num))"
   ]
  },
  {
   "cell_type": "markdown",
   "id": "8a1c2995",
   "metadata": {},
   "source": [
    "Function creation using defalut arguments"
   ]
  },
  {
   "cell_type": "code",
   "execution_count": 36,
   "id": "f5c7aab6",
   "metadata": {},
   "outputs": [
    {
     "name": "stdout",
     "output_type": "stream",
     "text": [
      "X: 10\n",
      "Y: 50\n"
     ]
    }
   ],
   "source": [
    "def myfun(x,y=50):\n",
    "    print(\"X:\",x)\n",
    "    print(\"Y:\",y)\n",
    "myfun(10)\n",
    "    "
   ]
  },
  {
   "cell_type": "markdown",
   "id": "3069467f",
   "metadata": {},
   "source": [
    "# Function With *args and **kwargs"
   ]
  },
  {
   "cell_type": "code",
   "execution_count": 37,
   "id": "a5d720ef",
   "metadata": {},
   "outputs": [
    {
     "name": "stdout",
     "output_type": "stream",
     "text": [
      "the brilliant student is Madhav\n"
     ]
    }
   ],
   "source": [
    "def fun1(*student):\n",
    "    print(\"the brilliant student is \" +student[2])\n",
    "    \n",
    "fun1('ravi','Dharmik','Madhav','Vivek')    "
   ]
  },
  {
   "cell_type": "code",
   "execution_count": 44,
   "id": "99f352c6",
   "metadata": {},
   "outputs": [
    {
     "name": "stdout",
     "output_type": "stream",
     "text": [
      "the brilliant student is Gosai\n"
     ]
    }
   ],
   "source": [
    "def my1(**bhai):\n",
    "    print(\"the brilliant student is \" +bhai[\"fname\"])\n",
    "    \n",
    "my1(fname='Gosai',lastname='Dharmik')   "
   ]
  },
  {
   "cell_type": "markdown",
   "id": "3c52c6f0",
   "metadata": {},
   "source": [
    "# Lamda Function "
   ]
  },
  {
   "cell_type": "markdown",
   "id": "4b870ee7",
   "metadata": {},
   "source": [
    "lamda arg:exp\n",
    "\n",
    "a lamda function is small anonymous function"
   ]
  },
  {
   "cell_type": "code",
   "execution_count": 51,
   "id": "04a2c0f6",
   "metadata": {},
   "outputs": [
    {
     "name": "stdout",
     "output_type": "stream",
     "text": [
      "Enter the year: 2004\n",
      "Leap Year\n"
     ]
    }
   ],
   "source": [
    "n = int(input(\"Enter the year: \"))\n",
    "leap= lambda y:(y%4==0 and y%100 !=0) or y%400==0\n",
    "if leap(n):\n",
    "    print(\"Leap Year\")\n",
    "else:\n",
    "    print(\"Not Leap year\")\n"
   ]
  },
  {
   "cell_type": "code",
   "execution_count": 52,
   "id": "b9b03409",
   "metadata": {},
   "outputs": [
    {
     "data": {
      "text/plain": [
       "15"
      ]
     },
     "execution_count": 52,
     "metadata": {},
     "output_type": "execute_result"
    }
   ],
   "source": [
    "x=lambda a:a+10\n",
    "x(5)"
   ]
  },
  {
   "cell_type": "markdown",
   "id": "ccc4d153",
   "metadata": {},
   "source": [
    "# python Module and packages"
   ]
  },
  {
   "cell_type": "code",
   "execution_count": 53,
   "id": "0b5c5776",
   "metadata": {},
   "outputs": [
    {
     "name": "stdout",
     "output_type": "stream",
     "text": [
      "Requirement already satisfied: numpy in c:\\users\\admin\\anaconda3\\lib\\site-packages (1.24.3)\n",
      "Note: you may need to restart the kernel to use updated packages.\n"
     ]
    }
   ],
   "source": [
    "pip install numpy"
   ]
  },
  {
   "cell_type": "code",
   "execution_count": 1,
   "id": "90cdb03a",
   "metadata": {},
   "outputs": [
    {
     "name": "stdout",
     "output_type": "stream",
     "text": [
      "Requirement already satisfied: numpy in c:\\users\\admin\\anaconda3\\lib\\site-packages (1.24.3)Note: you may need to restart the kernel to use updated packages.\n",
      "\n"
     ]
    }
   ],
   "source": [
    "pip install numpy"
   ]
  },
  {
   "cell_type": "code",
   "execution_count": 3,
   "id": "5e27e1d4",
   "metadata": {},
   "outputs": [],
   "source": [
    "#import platform\n",
    "import platform"
   ]
  },
  {
   "cell_type": "code",
   "execution_count": 4,
   "id": "1d4a2f3f",
   "metadata": {},
   "outputs": [
    {
     "data": {
      "text/plain": [
       "'Windows'"
      ]
     },
     "execution_count": 4,
     "metadata": {},
     "output_type": "execute_result"
    }
   ],
   "source": [
    "platform.system()"
   ]
  },
  {
   "cell_type": "code",
   "execution_count": 5,
   "id": "172856d4",
   "metadata": {},
   "outputs": [],
   "source": [
    "import math\n"
   ]
  },
  {
   "cell_type": "code",
   "execution_count": 7,
   "id": "2393402e",
   "metadata": {},
   "outputs": [
    {
     "data": {
      "text/plain": [
       "12"
      ]
     },
     "execution_count": 7,
     "metadata": {},
     "output_type": "execute_result"
    }
   ],
   "source": [
    "math.floor(12.4)"
   ]
  },
  {
   "cell_type": "code",
   "execution_count": 10,
   "id": "544b5782",
   "metadata": {},
   "outputs": [
    {
     "data": {
      "text/plain": [
       "16.0"
      ]
     },
     "execution_count": 10,
     "metadata": {},
     "output_type": "execute_result"
    }
   ],
   "source": [
    "math.pow(2,4)"
   ]
  },
  {
   "cell_type": "code",
   "execution_count": 11,
   "id": "293d35a5",
   "metadata": {},
   "outputs": [
    {
     "data": {
      "text/plain": [
       "3.141592653589793"
      ]
     },
     "execution_count": 11,
     "metadata": {},
     "output_type": "execute_result"
    }
   ],
   "source": [
    "math.pi"
   ]
  },
  {
   "cell_type": "code",
   "execution_count": 12,
   "id": "d42daca2",
   "metadata": {},
   "outputs": [
    {
     "data": {
      "text/plain": [
       "3628800"
      ]
     },
     "execution_count": 12,
     "metadata": {},
     "output_type": "execute_result"
    }
   ],
   "source": [
    "math.factorial(10)"
   ]
  },
  {
   "cell_type": "code",
   "execution_count": 14,
   "id": "e7821960",
   "metadata": {},
   "outputs": [
    {
     "data": {
      "text/plain": [
       "11"
      ]
     },
     "execution_count": 14,
     "metadata": {},
     "output_type": "execute_result"
    }
   ],
   "source": [
    "min(11,14)"
   ]
  },
  {
   "cell_type": "code",
   "execution_count": 15,
   "id": "e0f00278",
   "metadata": {},
   "outputs": [
    {
     "data": {
      "text/plain": [
       "65"
      ]
     },
     "execution_count": 15,
     "metadata": {},
     "output_type": "execute_result"
    }
   ],
   "source": [
    "max(13,65)"
   ]
  },
  {
   "cell_type": "code",
   "execution_count": 16,
   "id": "be6fca12",
   "metadata": {},
   "outputs": [
    {
     "data": {
      "text/plain": [
       "['__doc__',\n",
       " '__loader__',\n",
       " '__name__',\n",
       " '__package__',\n",
       " '__spec__',\n",
       " 'acos',\n",
       " 'acosh',\n",
       " 'asin',\n",
       " 'asinh',\n",
       " 'atan',\n",
       " 'atan2',\n",
       " 'atanh',\n",
       " 'cbrt',\n",
       " 'ceil',\n",
       " 'comb',\n",
       " 'copysign',\n",
       " 'cos',\n",
       " 'cosh',\n",
       " 'degrees',\n",
       " 'dist',\n",
       " 'e',\n",
       " 'erf',\n",
       " 'erfc',\n",
       " 'exp',\n",
       " 'exp2',\n",
       " 'expm1',\n",
       " 'fabs',\n",
       " 'factorial',\n",
       " 'floor',\n",
       " 'fmod',\n",
       " 'frexp',\n",
       " 'fsum',\n",
       " 'gamma',\n",
       " 'gcd',\n",
       " 'hypot',\n",
       " 'inf',\n",
       " 'isclose',\n",
       " 'isfinite',\n",
       " 'isinf',\n",
       " 'isnan',\n",
       " 'isqrt',\n",
       " 'lcm',\n",
       " 'ldexp',\n",
       " 'lgamma',\n",
       " 'log',\n",
       " 'log10',\n",
       " 'log1p',\n",
       " 'log2',\n",
       " 'modf',\n",
       " 'nan',\n",
       " 'nextafter',\n",
       " 'perm',\n",
       " 'pi',\n",
       " 'pow',\n",
       " 'prod',\n",
       " 'radians',\n",
       " 'remainder',\n",
       " 'sin',\n",
       " 'sinh',\n",
       " 'sqrt',\n",
       " 'tan',\n",
       " 'tanh',\n",
       " 'tau',\n",
       " 'trunc',\n",
       " 'ulp']"
      ]
     },
     "execution_count": 16,
     "metadata": {},
     "output_type": "execute_result"
    }
   ],
   "source": [
    "dir(math)"
   ]
  },
  {
   "cell_type": "code",
   "execution_count": 22,
   "id": "c62e55b7",
   "metadata": {},
   "outputs": [],
   "source": [
    "import greetings"
   ]
  },
  {
   "cell_type": "code",
   "execution_count": 24,
   "id": "cb0fb02e",
   "metadata": {},
   "outputs": [
    {
     "name": "stdout",
     "output_type": "stream",
     "text": [
      "Hello, dharmik\n"
     ]
    }
   ],
   "source": [
    "greetings.greetig('dharmik')"
   ]
  },
  {
   "cell_type": "code",
   "execution_count": null,
   "id": "29f08ca7",
   "metadata": {},
   "outputs": [],
   "source": []
  }
 ],
 "metadata": {
  "kernelspec": {
   "display_name": "Python 3 (ipykernel)",
   "language": "python",
   "name": "python3"
  },
  "language_info": {
   "codemirror_mode": {
    "name": "ipython",
    "version": 3
   },
   "file_extension": ".py",
   "mimetype": "text/x-python",
   "name": "python",
   "nbconvert_exporter": "python",
   "pygments_lexer": "ipython3",
   "version": "3.11.5"
  }
 },
 "nbformat": 4,
 "nbformat_minor": 5
}
