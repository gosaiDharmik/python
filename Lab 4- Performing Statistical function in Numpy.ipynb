{
 "cells": [
  {
   "cell_type": "markdown",
   "id": "60eeff06",
   "metadata": {},
   "source": [
    "# Lab 4- Performing Statistical function in Numpy"
   ]
  },
  {
   "cell_type": "code",
   "execution_count": 1,
   "id": "a6c689b2",
   "metadata": {},
   "outputs": [],
   "source": [
    "import numpy as np"
   ]
  },
  {
   "cell_type": "code",
   "execution_count": 5,
   "id": "674e18d6",
   "metadata": {},
   "outputs": [
    {
     "name": "stdout",
     "output_type": "stream",
     "text": [
      "Mean: 30.0\n",
      "Median: 30.0\n",
      "Max Value: 50\n",
      "Min Value: 10\n"
     ]
    }
   ],
   "source": [
    "data=np.array([10,20,30,40,50])\n",
    "mean=np.mean(data)\n",
    "print(\"Mean:\",mean)\n",
    "median=np.median(data)\n",
    "print(\"Median:\",median)\n",
    "max=np.max(data)\n",
    "print(\"Max Value:\",max)\n",
    "min=np.min(data)\n",
    "print(\"Min Value:\",min)"
   ]
  },
  {
   "cell_type": "code",
   "execution_count": null,
   "id": "cfa8f8de",
   "metadata": {},
   "outputs": [],
   "source": []
  }
 ],
 "metadata": {
  "kernelspec": {
   "display_name": "Python 3 (ipykernel)",
   "language": "python",
   "name": "python3"
  },
  "language_info": {
   "codemirror_mode": {
    "name": "ipython",
    "version": 3
   },
   "file_extension": ".py",
   "mimetype": "text/x-python",
   "name": "python",
   "nbconvert_exporter": "python",
   "pygments_lexer": "ipython3",
   "version": "3.11.5"
  }
 },
 "nbformat": 4,
 "nbformat_minor": 5
}
