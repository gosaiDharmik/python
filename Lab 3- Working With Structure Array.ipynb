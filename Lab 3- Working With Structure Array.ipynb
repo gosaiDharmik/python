{
 "cells": [
  {
   "cell_type": "markdown",
   "id": "823e7061",
   "metadata": {},
   "source": [
    "# Lab 3- Working With Structure Array"
   ]
  },
  {
   "cell_type": "code",
   "execution_count": 3,
   "id": "d2a91aa8",
   "metadata": {},
   "outputs": [
    {
     "name": "stdout",
     "output_type": "stream",
     "text": [
      "[['Raj Sharma' '28' '7000' 'Python Devloper']\n",
      " ['Kanchan Kashyap' '25' '6000' 'Digital Marketer']\n",
      " ['Mukul Sinha' '26' '52500' 'Software Engineer']]\n"
     ]
    }
   ],
   "source": [
    "import numpy as np\n",
    "t=np.dtype([('ename','U40'),\n",
    "          ('age','u1'),\n",
    "          ('salary','u4'),\n",
    "          ('designation','U30')])\n",
    "arr=np.array([('Raj Sharma',28,7000,'Python Devloper'),\n",
    "             ('Kanchan Kashyap',25,6000,'Digital Marketer'),\n",
    "             ('Mukul Sinha',26,52500,'Software Engineer')])\n",
    "print(arr)"
   ]
  },
  {
   "cell_type": "code",
   "execution_count": null,
   "id": "585e604b",
   "metadata": {},
   "outputs": [],
   "source": []
  }
 ],
 "metadata": {
  "kernelspec": {
   "display_name": "Python 3 (ipykernel)",
   "language": "python",
   "name": "python3"
  },
  "language_info": {
   "codemirror_mode": {
    "name": "ipython",
    "version": 3
   },
   "file_extension": ".py",
   "mimetype": "text/x-python",
   "name": "python",
   "nbconvert_exporter": "python",
   "pygments_lexer": "ipython3",
   "version": "3.11.5"
  }
 },
 "nbformat": 4,
 "nbformat_minor": 5
}
