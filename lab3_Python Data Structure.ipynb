{
 "cells": [
  {
   "cell_type": "markdown",
   "id": "e8015990",
   "metadata": {},
   "source": [
    "# 1.List"
   ]
  },
  {
   "cell_type": "markdown",
   "id": "fbbe2be1",
   "metadata": {},
   "source": [
    "List are mutable datatype(changeable)\n",
    "syntex: List1 = [\"physics\",\"maths\"]"
   ]
  },
  {
   "cell_type": "code",
   "execution_count": 28,
   "id": "9a970949",
   "metadata": {},
   "outputs": [
    {
     "name": "stdout",
     "output_type": "stream",
     "text": [
      "[1, 2, 3, 'abes', 12.5]\n"
     ]
    }
   ],
   "source": [
    "l=[1,2,3, \"abes\",12.5]\n",
    "print(l)"
   ]
  },
  {
   "cell_type": "code",
   "execution_count": 6,
   "id": "e53e4798",
   "metadata": {},
   "outputs": [
    {
     "data": {
      "text/plain": [
       "[2, 3, 'abes', 12.5]"
      ]
     },
     "execution_count": 6,
     "metadata": {},
     "output_type": "execute_result"
    }
   ],
   "source": [
    "l[1:5]"
   ]
  },
  {
   "cell_type": "code",
   "execution_count": 10,
   "id": "21990afc",
   "metadata": {},
   "outputs": [
    {
     "name": "stdout",
     "output_type": "stream",
     "text": [
      "Enter the word: i love india\n"
     ]
    },
    {
     "data": {
      "text/plain": [
       "12"
      ]
     },
     "execution_count": 10,
     "metadata": {},
     "output_type": "execute_result"
    }
   ],
   "source": [
    "text = input(\"Enter the word: \")\n",
    "text.split()\n"
   ]
  },
  {
   "cell_type": "code",
   "execution_count": 11,
   "id": "170a8f5b",
   "metadata": {},
   "outputs": [
    {
     "name": "stdout",
     "output_type": "stream",
     "text": [
      "347\n"
     ]
    }
   ],
   "source": [
    "list1= 123\n",
    "list2=224\n",
    "list3=list1+list2\n",
    "print(list3)"
   ]
  },
  {
   "cell_type": "code",
   "execution_count": 15,
   "id": "dc2852bf",
   "metadata": {},
   "outputs": [
    {
     "name": "stdout",
     "output_type": "stream",
     "text": [
      "['dhg', 'qwe', 'dhr', 'jhdp']\n",
      "['dhg', 'qwe', 'dhr', 'jhdp', 'dhg', 'qwe', 'dhr', 'jhdp']\n"
     ]
    }
   ],
   "source": [
    "l1=['dhr','jhdp']\n",
    "\n",
    "l2=(l+l1)\n",
    "print(l2)\n",
    "l3=(l2*2)\n",
    "print(l3)"
   ]
  },
  {
   "cell_type": "code",
   "execution_count": 29,
   "id": "ecab85ed",
   "metadata": {},
   "outputs": [
    {
     "data": {
      "text/plain": [
       "[2, 3, 'abes', 12.5]"
      ]
     },
     "execution_count": 29,
     "metadata": {},
     "output_type": "execute_result"
    }
   ],
   "source": [
    "del l[0]\n",
    "l"
   ]
  },
  {
   "cell_type": "code",
   "execution_count": 30,
   "id": "b884528e",
   "metadata": {},
   "outputs": [
    {
     "data": {
      "text/plain": [
       "[2, 'abes', 12.5]"
      ]
     },
     "execution_count": 30,
     "metadata": {},
     "output_type": "execute_result"
    }
   ],
   "source": [
    "l.remove(3)\n",
    "l"
   ]
  },
  {
   "cell_type": "code",
   "execution_count": 31,
   "id": "94a48e53",
   "metadata": {},
   "outputs": [
    {
     "data": {
      "text/plain": [
       "[2, 'abes', 12.5, 'abes']"
      ]
     },
     "execution_count": 31,
     "metadata": {},
     "output_type": "execute_result"
    }
   ],
   "source": [
    "l.append('abes')\n",
    "l"
   ]
  },
  {
   "cell_type": "code",
   "execution_count": 35,
   "id": "db7c1905",
   "metadata": {},
   "outputs": [
    {
     "name": "stdout",
     "output_type": "stream",
     "text": [
      "['apple', 'mango', 'volvo', 'bmw']\n"
     ]
    }
   ],
   "source": [
    "fruits =['apple','mango']\n",
    "car= ['volvo','bmw']\n",
    "fruits.extend(car)\n",
    "print(fruits)"
   ]
  },
  {
   "cell_type": "markdown",
   "id": "11f4016e",
   "metadata": {},
   "source": [
    "# Tuples"
   ]
  },
  {
   "cell_type": "markdown",
   "id": "bc433eec",
   "metadata": {},
   "source": [
    "Tuples are immutable datatype"
   ]
  },
  {
   "cell_type": "code",
   "execution_count": 36,
   "id": "dd907275",
   "metadata": {},
   "outputs": [
    {
     "name": "stdout",
     "output_type": "stream",
     "text": [
      "('dharmik', 22, 'Bharat', 21.7, 'vadodra', 99)\n",
      "<class 'tuple'>\n"
     ]
    }
   ],
   "source": [
    "tup1=(\"dharmik\",22,\"Bharat\",21.7,\"vadodra\",99)\n",
    "print(tup1)\n",
    "print(type(tup1))"
   ]
  },
  {
   "cell_type": "code",
   "execution_count": 37,
   "id": "eaa49ea1",
   "metadata": {},
   "outputs": [
    {
     "data": {
      "text/plain": [
       "'Bharat'"
      ]
     },
     "execution_count": 37,
     "metadata": {},
     "output_type": "execute_result"
    }
   ],
   "source": [
    "tup1[2]"
   ]
  },
  {
   "cell_type": "code",
   "execution_count": 39,
   "id": "ee2b71d3",
   "metadata": {},
   "outputs": [
    {
     "data": {
      "text/plain": [
       "(22, 'Bharat')"
      ]
     },
     "execution_count": 39,
     "metadata": {},
     "output_type": "execute_result"
    }
   ],
   "source": [
    "tup1[1:3]"
   ]
  },
  {
   "cell_type": "code",
   "execution_count": 40,
   "id": "ef1f5b83",
   "metadata": {},
   "outputs": [
    {
     "name": "stdout",
     "output_type": "stream",
     "text": [
      "('dharmik', 22, 'Bharat', 21.7, 'vadodra', 99, 'python', 87)\n"
     ]
    }
   ],
   "source": [
    "tup2=(\"python\",87)\n",
    "tup3=tup1 +tup2\n",
    "print(tup3)"
   ]
  },
  {
   "cell_type": "code",
   "execution_count": 41,
   "id": "267647e9",
   "metadata": {},
   "outputs": [
    {
     "ename": "TypeError",
     "evalue": "'tuple' object doesn't support item deletion",
     "output_type": "error",
     "traceback": [
      "\u001b[1;31m---------------------------------------------------------------------------\u001b[0m",
      "\u001b[1;31mTypeError\u001b[0m                                 Traceback (most recent call last)",
      "Cell \u001b[1;32mIn[41], line 1\u001b[0m\n\u001b[1;32m----> 1\u001b[0m \u001b[38;5;28;01mdel\u001b[39;00m tup3[\u001b[38;5;241m87\u001b[39m]\n\u001b[0;32m      2\u001b[0m \u001b[38;5;28mprint\u001b[39m(tup3)\n",
      "\u001b[1;31mTypeError\u001b[0m: 'tuple' object doesn't support item deletion"
     ]
    }
   ],
   "source": [
    "del tup3[87]\n",
    "print(tup3)"
   ]
  },
  {
   "cell_type": "markdown",
   "id": "04783eaf",
   "metadata": {},
   "source": [
    "# Dictionaries"
   ]
  },
  {
   "cell_type": "code",
   "execution_count": 45,
   "id": "67df3e23",
   "metadata": {},
   "outputs": [
    {
     "data": {
      "text/plain": [
       "{'key1': 'value1', 'key2': 'value2', 'key3': 'value3'}"
      ]
     },
     "execution_count": 45,
     "metadata": {},
     "output_type": "execute_result"
    }
   ],
   "source": [
    "Dict={'key1':'value1','key2':'value2','key3':'value3'}\n",
    "Dict"
   ]
  },
  {
   "cell_type": "code",
   "execution_count": 46,
   "id": "72cd4703",
   "metadata": {},
   "outputs": [
    {
     "data": {
      "text/plain": [
       "'value1'"
      ]
     },
     "execution_count": 46,
     "metadata": {},
     "output_type": "execute_result"
    }
   ],
   "source": [
    "Dict['key1']"
   ]
  },
  {
   "cell_type": "code",
   "execution_count": 48,
   "id": "b25bd43f",
   "metadata": {},
   "outputs": [
    {
     "data": {
      "text/plain": [
       "{'key1': 123, 'key2': [1, 2, 3], 'key3': ['edu', 'net', 'foundatiom']}"
      ]
     },
     "execution_count": 48,
     "metadata": {},
     "output_type": "execute_result"
    }
   ],
   "source": [
    "Dict={'key1':123,'key2':[1,2,3],'key3':['edu','net','foundatiom']}\n",
    "Dict"
   ]
  },
  {
   "cell_type": "code",
   "execution_count": 50,
   "id": "0888ca2a",
   "metadata": {},
   "outputs": [
    {
     "data": {
      "text/plain": [
       "[1, 2, 3]"
      ]
     },
     "execution_count": 50,
     "metadata": {},
     "output_type": "execute_result"
    }
   ],
   "source": [
    "Dict['key2']"
   ]
  },
  {
   "cell_type": "code",
   "execution_count": 51,
   "id": "a87c7341",
   "metadata": {},
   "outputs": [
    {
     "data": {
      "text/plain": [
       "['edu', 'net', 'foundatiom']"
      ]
     },
     "execution_count": 51,
     "metadata": {},
     "output_type": "execute_result"
    }
   ],
   "source": [
    "Dict['key3']"
   ]
  },
  {
   "cell_type": "code",
   "execution_count": 52,
   "id": "292060e8",
   "metadata": {},
   "outputs": [
    {
     "data": {
      "text/plain": [
       "[1, 2, 3]"
      ]
     },
     "execution_count": 52,
     "metadata": {},
     "output_type": "execute_result"
    }
   ],
   "source": [
    "Dict['key2']"
   ]
  },
  {
   "cell_type": "code",
   "execution_count": 70,
   "id": "a7ee8d48",
   "metadata": {},
   "outputs": [
    {
     "name": "stdout",
     "output_type": "stream",
     "text": [
      "{'one': 'this is python', 2: 'this is java'}\n"
     ]
    }
   ],
   "source": [
    "dict1 ={}\n",
    "dict1['one'] =\"this is python\"\n",
    "dict1[2]=\"this is java\"\n",
    "print(dict1)"
   ]
  },
  {
   "cell_type": "markdown",
   "id": "cbe71e03",
   "metadata": {},
   "source": [
    "# SET"
   ]
  },
  {
   "cell_type": "markdown",
   "id": "cedccc52",
   "metadata": {},
   "source": [
    "set are unordered,duplicate values"
   ]
  },
  {
   "cell_type": "code",
   "execution_count": 59,
   "id": "faeff8eb",
   "metadata": {},
   "outputs": [
    {
     "data": {
      "text/plain": [
       "{'maths', 'phyic'}"
      ]
     },
     "execution_count": 59,
     "metadata": {},
     "output_type": "execute_result"
    }
   ],
   "source": [
    "thisset={'phyic','maths'}\n",
    "thisset"
   ]
  },
  {
   "cell_type": "code",
   "execution_count": 61,
   "id": "1ef1618c",
   "metadata": {},
   "outputs": [
    {
     "name": "stdout",
     "output_type": "stream",
     "text": [
      "2\n"
     ]
    }
   ],
   "source": [
    "print(len(thisset))"
   ]
  },
  {
   "cell_type": "code",
   "execution_count": 63,
   "id": "f55dd9c4",
   "metadata": {},
   "outputs": [
    {
     "data": {
      "text/plain": [
       "{'123', '2345'}"
      ]
     },
     "execution_count": 63,
     "metadata": {},
     "output_type": "execute_result"
    }
   ],
   "source": [
    "thisset={'123','2345'}\n",
    "thisset"
   ]
  },
  {
   "cell_type": "code",
   "execution_count": 64,
   "id": "e6f1a370",
   "metadata": {},
   "outputs": [
    {
     "data": {
      "text/plain": [
       "int"
      ]
     },
     "execution_count": 64,
     "metadata": {},
     "output_type": "execute_result"
    }
   ],
   "source": [
    "type(123)"
   ]
  },
  {
   "cell_type": "code",
   "execution_count": 67,
   "id": "0a3cf2f7",
   "metadata": {},
   "outputs": [
    {
     "data": {
      "text/plain": [
       "set"
      ]
     },
     "execution_count": 67,
     "metadata": {},
     "output_type": "execute_result"
    }
   ],
   "source": [
    "type({'phyic','maths'})\n"
   ]
  },
  {
   "cell_type": "code",
   "execution_count": 76,
   "id": "b70f8095",
   "metadata": {},
   "outputs": [
    {
     "data": {
      "text/plain": [
       "{10, 100}"
      ]
     },
     "execution_count": 76,
     "metadata": {},
     "output_type": "execute_result"
    }
   ],
   "source": [
    "Set =set()\n",
    "Set.add(10)\n",
    "Set.add(100)\n",
    "Set\n"
   ]
  },
  {
   "cell_type": "code",
   "execution_count": 86,
   "id": "876f0087",
   "metadata": {},
   "outputs": [
    {
     "ename": "IndentationError",
     "evalue": "unexpected indent (851699023.py, line 2)",
     "output_type": "error",
     "traceback": [
      "\u001b[1;36m  Cell \u001b[1;32mIn[86], line 2\u001b[1;36m\u001b[0m\n\u001b[1;33m    while true:\u001b[0m\n\u001b[1;37m    ^\u001b[0m\n\u001b[1;31mIndentationError\u001b[0m\u001b[1;31m:\u001b[0m unexpected indent\n"
     ]
    }
   ],
   "source": [
    "i=1\n",
    "  while true:\n",
    "ifi%3 == 0:\n",
    "    break\n",
    "print(i)\n",
    "\n",
    "   i + =1"
   ]
  },
  {
   "cell_type": "code",
   "execution_count": 81,
   "id": "01a3c8d0",
   "metadata": {},
   "outputs": [
    {
     "data": {
      "text/plain": [
       "512"
      ]
     },
     "execution_count": 81,
     "metadata": {},
     "output_type": "execute_result"
    }
   ],
   "source": [
    "2**(3**2)"
   ]
  },
  {
   "cell_type": "code",
   "execution_count": 82,
   "id": "f70fa505",
   "metadata": {},
   "outputs": [
    {
     "data": {
      "text/plain": [
       "64"
      ]
     },
     "execution_count": 82,
     "metadata": {},
     "output_type": "execute_result"
    }
   ],
   "source": [
    "(2**3)**2"
   ]
  },
  {
   "cell_type": "code",
   "execution_count": 83,
   "id": "be62b708",
   "metadata": {},
   "outputs": [
    {
     "data": {
      "text/plain": [
       "512"
      ]
     },
     "execution_count": 83,
     "metadata": {},
     "output_type": "execute_result"
    }
   ],
   "source": [
    "2**3**2"
   ]
  },
  {
   "cell_type": "code",
   "execution_count": 87,
   "id": "3569f1be",
   "metadata": {},
   "outputs": [
    {
     "data": {
      "text/plain": [
       "[1, 2, 'hello']"
      ]
     },
     "execution_count": 87,
     "metadata": {},
     "output_type": "execute_result"
    }
   ],
   "source": [
    "l=[1,0,2,0,'hello',\"\",[]]\n",
    "list(filter(bool,l))"
   ]
  },
  {
   "cell_type": "code",
   "execution_count": null,
   "id": "ce98353d",
   "metadata": {},
   "outputs": [],
   "source": []
  }
 ],
 "metadata": {
  "kernelspec": {
   "display_name": "Python 3 (ipykernel)",
   "language": "python",
   "name": "python3"
  },
  "language_info": {
   "codemirror_mode": {
    "name": "ipython",
    "version": 3
   },
   "file_extension": ".py",
   "mimetype": "text/x-python",
   "name": "python",
   "nbconvert_exporter": "python",
   "pygments_lexer": "ipython3",
   "version": "3.11.5"
  }
 },
 "nbformat": 4,
 "nbformat_minor": 5
}
