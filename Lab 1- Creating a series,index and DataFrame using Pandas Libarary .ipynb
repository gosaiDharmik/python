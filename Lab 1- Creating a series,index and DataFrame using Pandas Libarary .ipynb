{
 "cells": [
  {
   "cell_type": "markdown",
   "id": "122cb562",
   "metadata": {},
   "source": [
    "# Lab 1- Creating a series,index and DataFrame using Pandas Libarary "
   ]
  },
  {
   "cell_type": "code",
   "execution_count": null,
   "id": "6f0b60c3",
   "metadata": {},
   "outputs": [],
   "source": []
  }
 ],
 "metadata": {
  "kernelspec": {
   "display_name": "Python 3 (ipykernel)",
   "language": "python",
   "name": "python3"
  },
  "language_info": {
   "codemirror_mode": {
    "name": "ipython",
    "version": 3
   },
   "file_extension": ".py",
   "mimetype": "text/x-python",
   "name": "python",
   "nbconvert_exporter": "python",
   "pygments_lexer": "ipython3",
   "version": "3.11.5"
  }
 },
 "nbformat": 4,
 "nbformat_minor": 5
}
