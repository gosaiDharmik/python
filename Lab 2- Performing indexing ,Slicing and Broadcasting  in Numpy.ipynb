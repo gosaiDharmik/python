{
 "cells": [
  {
   "cell_type": "markdown",
   "id": "ec6a31f1",
   "metadata": {},
   "source": [
    "# Lab 2- Performing indexing ,Slicing and Broadcasting  in Numpy"
   ]
  },
  {
   "cell_type": "markdown",
   "id": "eb519b9b",
   "metadata": {},
   "source": [
    "# Program 1- indexing in Numpy"
   ]
  },
  {
   "cell_type": "code",
   "execution_count": 7,
   "id": "02ec2cd2",
   "metadata": {},
   "outputs": [
    {
     "name": "stdout",
     "output_type": "stream",
     "text": [
      "Element of array [1 3 5 7 9]\n",
      "Indexed Element of array arr: [9 1 5 9 7]\n"
     ]
    }
   ],
   "source": [
    "import numpy as np\n",
    "arr=np.arange(1,10,2)\n",
    "print(\"Element of array\",arr)\n",
    "arr1=arr[np.array([4,0,2,-1,-2])]\n",
    "print(\"Indexed Element of array arr:\",arr1)"
   ]
  },
  {
   "cell_type": "code",
   "execution_count": 9,
   "id": "3d1b6055",
   "metadata": {},
   "outputs": [
    {
     "name": "stdout",
     "output_type": "stream",
     "text": [
      "[0 1 2 3]\n",
      "0\n",
      "1\n",
      "2\n"
     ]
    }
   ],
   "source": [
    "arr1=np.arange(4)\n",
    "print(arr1)\n",
    "print(arr1[0])\n",
    "print(arr1[1])\n",
    "print(arr1[2])"
   ]
  },
  {
   "cell_type": "code",
   "execution_count": 10,
   "id": "5c43fcf0",
   "metadata": {},
   "outputs": [
    {
     "name": "stdout",
     "output_type": "stream",
     "text": [
      "[[ 0  1  2  3]\n",
      " [ 4  5  6  7]\n",
      " [ 8  9 10 11]]\n"
     ]
    }
   ],
   "source": [
    "arr=np.arange(12)\n",
    "arr1=arr.reshape(3,4)\n",
    "print(arr1)\n"
   ]
  },
  {
   "cell_type": "code",
   "execution_count": 11,
   "id": "68a4268d",
   "metadata": {},
   "outputs": [
    {
     "data": {
      "text/plain": [
       "array([ 0,  1,  2,  3,  4,  5,  6,  7,  8,  9, 10, 11])"
      ]
     },
     "execution_count": 11,
     "metadata": {},
     "output_type": "execute_result"
    }
   ],
   "source": [
    "arr=np.arange(12)\n",
    "arr"
   ]
  },
  {
   "cell_type": "code",
   "execution_count": 12,
   "id": "ff36e916",
   "metadata": {},
   "outputs": [
    {
     "name": "stdout",
     "output_type": "stream",
     "text": [
      "Element index: 7\n"
     ]
    }
   ],
   "source": [
    "print(\"Element index:\",arr1[1,3])"
   ]
  },
  {
   "cell_type": "code",
   "execution_count": 13,
   "id": "8c6c59a7",
   "metadata": {},
   "outputs": [
    {
     "name": "stdout",
     "output_type": "stream",
     "text": [
      "Element index: 9\n"
     ]
    }
   ],
   "source": [
    "print(\"Element index:\",arr1[2,1])"
   ]
  },
  {
   "cell_type": "code",
   "execution_count": 14,
   "id": "550b75eb",
   "metadata": {},
   "outputs": [
    {
     "name": "stdout",
     "output_type": "stream",
     "text": [
      "Element index: 4\n"
     ]
    }
   ],
   "source": [
    "print(\"Element index:\",arr1[1,0])"
   ]
  },
  {
   "cell_type": "code",
   "execution_count": 15,
   "id": "cc255dde",
   "metadata": {},
   "outputs": [
    {
     "name": "stdout",
     "output_type": "stream",
     "text": [
      "Element index: 2\n"
     ]
    }
   ],
   "source": [
    "print(\"Element index:\",arr1[0,2])"
   ]
  },
  {
   "cell_type": "code",
   "execution_count": 18,
   "id": "6c46751f",
   "metadata": {},
   "outputs": [
    {
     "name": "stdout",
     "output_type": "stream",
     "text": [
      "Element index: 7\n"
     ]
    }
   ],
   "source": [
    "print(\"Element index:\",arr1[1,3])"
   ]
  },
  {
   "cell_type": "code",
   "execution_count": 19,
   "id": "774f8d03",
   "metadata": {},
   "outputs": [
    {
     "data": {
      "text/plain": [
       "array([[[ 0,  1,  2],\n",
       "        [ 3,  4,  5]],\n",
       "\n",
       "       [[ 6,  7,  8],\n",
       "        [ 9, 10, 11]]])"
      ]
     },
     "execution_count": 19,
     "metadata": {},
     "output_type": "execute_result"
    }
   ],
   "source": [
    "arr=np.arange(12)\n",
    "arr\n",
    "arr1=arr.reshape(2,2,3)\n",
    "arr1"
   ]
  },
  {
   "cell_type": "code",
   "execution_count": 21,
   "id": "58861bcf",
   "metadata": {},
   "outputs": [
    {
     "name": "stdout",
     "output_type": "stream",
     "text": [
      "Element index: 3\n"
     ]
    }
   ],
   "source": [
    "print(\"Element index:\",arr1[0,1,0])"
   ]
  },
  {
   "cell_type": "code",
   "execution_count": 28,
   "id": "3105a2c6",
   "metadata": {},
   "outputs": [
    {
     "name": "stdout",
     "output_type": "stream",
     "text": [
      "Element index: 7\n"
     ]
    }
   ],
   "source": [
    "print(\"Element index:\",arr1[1,0,1])"
   ]
  },
  {
   "cell_type": "markdown",
   "id": "70653e5d",
   "metadata": {},
   "source": [
    "# Program 2-Slicing in Array"
   ]
  },
  {
   "cell_type": "code",
   "execution_count": 32,
   "id": "aa41c376",
   "metadata": {},
   "outputs": [
    {
     "data": {
      "text/plain": [
       "array([1, 2, 3, 4])"
      ]
     },
     "execution_count": 32,
     "metadata": {},
     "output_type": "execute_result"
    }
   ],
   "source": [
    "arr=np.arange(6)\n",
    "arr\n",
    "arr[1:5]"
   ]
  },
  {
   "cell_type": "code",
   "execution_count": 45,
   "id": "2e1dc260",
   "metadata": {},
   "outputs": [
    {
     "name": "stdout",
     "output_type": "stream",
     "text": [
      "[[ 0  1  2  3]\n",
      " [ 4  5  6  7]\n",
      " [ 8  9 10 11]]\n",
      "\n",
      "\n",
      "[[5 6]]\n"
     ]
    }
   ],
   "source": [
    "arr=np.arange(12)\n",
    "arr\n",
    "arr1=arr.reshape(3,4)\n",
    "print(arr1)\n",
    "print(\"\\n\")\n",
    "print(arr1[1:2:,1:3])"
   ]
  },
  {
   "cell_type": "code",
   "execution_count": 48,
   "id": "e1579d08",
   "metadata": {},
   "outputs": [
    {
     "name": "stdout",
     "output_type": "stream",
     "text": [
      "[[1 2 3]\n",
      " [4 5 6]\n",
      " [7 8 9]]\n"
     ]
    }
   ],
   "source": [
    "arr=np.arange(1,10)\n",
    "arr\n",
    "arr1=arr.reshape(3,3)\n",
    "print(arr1)"
   ]
  },
  {
   "cell_type": "code",
   "execution_count": 51,
   "id": "1fa72df3",
   "metadata": {},
   "outputs": [],
   "source": [
    "scalar= 10\n",
    "result = arr1*scalar"
   ]
  },
  {
   "cell_type": "code",
   "execution_count": 52,
   "id": "6cbb6494",
   "metadata": {},
   "outputs": [
    {
     "name": "stdout",
     "output_type": "stream",
     "text": [
      "[[10 20 30]\n",
      " [40 50 60]\n",
      " [70 80 90]]\n"
     ]
    }
   ],
   "source": [
    "print(result)"
   ]
  },
  {
   "cell_type": "code",
   "execution_count": null,
   "id": "4ea2d0d1",
   "metadata": {},
   "outputs": [],
   "source": []
  }
 ],
 "metadata": {
  "kernelspec": {
   "display_name": "Python 3 (ipykernel)",
   "language": "python",
   "name": "python3"
  },
  "language_info": {
   "codemirror_mode": {
    "name": "ipython",
    "version": 3
   },
   "file_extension": ".py",
   "mimetype": "text/x-python",
   "name": "python",
   "nbconvert_exporter": "python",
   "pygments_lexer": "ipython3",
   "version": "3.11.5"
  }
 },
 "nbformat": 4,
 "nbformat_minor": 5
}
