{
 "cells": [
  {
   "cell_type": "markdown",
   "id": "0057c20a",
   "metadata": {},
   "source": [
    "# Lab 2-CRUD Operation of MongoDB Using Python"
   ]
  },
  {
   "cell_type": "code",
   "execution_count": 1,
   "id": "c130caf9",
   "metadata": {},
   "outputs": [],
   "source": [
    "import pymongo"
   ]
  },
  {
   "cell_type": "code",
   "execution_count": 2,
   "id": "4ebf5b87",
   "metadata": {},
   "outputs": [],
   "source": [
    "myclient = pymongo.MongoClient(\"mongodb://localhost:27017/\")"
   ]
  },
  {
   "cell_type": "markdown",
   "id": "4dd7e3aa",
   "metadata": {},
   "source": [
    "# Create new database and collection in MongoDB"
   ]
  },
  {
   "cell_type": "code",
   "execution_count": 3,
   "id": "329e5157",
   "metadata": {},
   "outputs": [],
   "source": [
    "infosys_db=myclient[\"infosys_db\"]"
   ]
  },
  {
   "cell_type": "code",
   "execution_count": 4,
   "id": "a2321021",
   "metadata": {},
   "outputs": [],
   "source": [
    "emp_coll=infosys_db['emp_coll']"
   ]
  },
  {
   "cell_type": "markdown",
   "id": "e18a61ff",
   "metadata": {},
   "source": [
    "# Howevery,the datbase and the collection are not created using them.lets fill them with data."
   ]
  },
  {
   "cell_type": "code",
   "execution_count": 5,
   "id": "83434ac1",
   "metadata": {},
   "outputs": [],
   "source": [
    "document = {\n",
    "    \"Name\":\"Dharmik\",\n",
    "    \"Age\":20,\n",
    "    \"State\":\"Gujarat\",\n",
    "    \"City\":\"Surat\",\n",
    "    \"Profile\":\"Devloper\",\n",
    "    \"Salary\":110000,\n",
    "    \"Experience\":3,\n",
    "    \"Skills\":[\"PHP\",\"MYSQL\"]\n",
    "    \n",
    "}"
   ]
  },
  {
   "cell_type": "code",
   "execution_count": 6,
   "id": "a622ea1e",
   "metadata": {},
   "outputs": [
    {
     "data": {
      "text/plain": [
       "<pymongo.results.InsertOneResult at 0x1ed77ef9900>"
      ]
     },
     "execution_count": 6,
     "metadata": {},
     "output_type": "execute_result"
    }
   ],
   "source": [
    "emp_coll.insert_one(document)"
   ]
  },
  {
   "cell_type": "code",
   "execution_count": 7,
   "id": "512324b3",
   "metadata": {},
   "outputs": [],
   "source": [
    "emp_data=[\n",
    "    {\n",
    "    \"Name\":\"Dharmik\",\n",
    "    \"Age\":20,\n",
    "    \"State\":\"Gujarat\",\n",
    "    \"City\":\"Surat\",\n",
    "    \"Profile\":\"Devloper\",\n",
    "    \"Salary\":110000,\n",
    "    \"Experience\":3,\n",
    "    \"Skills\":[\"PHP\",\"MYSQL\"]\n",
    "     \n",
    "    },\n",
    "    {\n",
    "    \"Name\":\"Madhav\",\n",
    "    \"Age\":19,\n",
    "    \"State\":\"Ahemadabad\",\n",
    "    \"City\":\"Nagrol\",\n",
    "    \"Profile\":\"Devloper\",\n",
    "    \"Salary\":11000,\n",
    "    \"Experience\":2,\n",
    "    \"Skills\":[\"PHP\",\"MYSQL\",\"python\"]\n",
    "        \n",
    "    },\n",
    "    {\n",
    "    \"Name\":\"Abhi\",\n",
    "    \"Age\":18,\n",
    "    \"State\":\"Goa\",\n",
    "    \"City\":\"Devka\",\n",
    "    \"Profile\":\"Devloper\",\n",
    "    \"Salary\":11004,\n",
    "    \"Experience\":1,\n",
    "    \"Skills\":[\"PHP\",\"MYSQL\"]\n",
    "    }\n",
    "]"
   ]
  },
  {
   "cell_type": "code",
   "execution_count": 8,
   "id": "a9bfb273",
   "metadata": {},
   "outputs": [],
   "source": [
    "emp=emp_coll.insert_many(emp_data)"
   ]
  },
  {
   "cell_type": "code",
   "execution_count": 18,
   "id": "b9bf2c6b",
   "metadata": {},
   "outputs": [],
   "source": [
    "result=emp_coll.find()"
   ]
  },
  {
   "cell_type": "code",
   "execution_count": 11,
   "id": "f9c4260a",
   "metadata": {},
   "outputs": [
    {
     "data": {
      "text/plain": [
       "['emp_coll']"
      ]
     },
     "execution_count": 11,
     "metadata": {},
     "output_type": "execute_result"
    }
   ],
   "source": [
    "infosys_db.list_collection_names()"
   ]
  },
  {
   "cell_type": "code",
   "execution_count": 14,
   "id": "0e6d36f9",
   "metadata": {},
   "outputs": [],
   "source": [
    "#Accessing Collection\n",
    "emp_coll=infosys_db['emp_coll']"
   ]
  },
  {
   "cell_type": "code",
   "execution_count": 19,
   "id": "1dddce35",
   "metadata": {},
   "outputs": [
    {
     "name": "stdout",
     "output_type": "stream",
     "text": [
      "{'_id': ObjectId('652a56115d62d863f39be5d1'), 'Name': 'Dharmik', 'Age': 20, 'State': 'Gujarat', 'City': 'Surat', 'Profile': 'Devloper', 'Salary': 110000, 'Experience': 3, 'Skills': ['PHP', 'MYSQL']}\n",
      "{'_id': ObjectId('652a562b5d62d863f39be5d2'), 'Name': 'Dharmik', 'Age': 20, 'State': 'Gujarat', 'City': 'Surat', 'Profile': 'Devloper', 'Salary': 110000, 'Experience': 3, 'Skills': ['PHP', 'MYSQL']}\n",
      "{'_id': ObjectId('652a562b5d62d863f39be5d3'), 'Name': 'Madhav', 'Age': 19, 'State': 'Ahemadabad', 'City': 'Nagrol', 'Profile': 'Devloper', 'Salary': 11000, 'Experience': 2, 'Skills': ['PHP', 'MYSQL', 'python']}\n",
      "{'_id': ObjectId('652a562b5d62d863f39be5d4'), 'Name': 'Abhi', 'Age': 18, 'State': 'Goa', 'City': 'Devka', 'Profile': 'Devloper', 'Salary': 11004, 'Experience': 1, 'Skills': ['PHP', 'MYSQL']}\n"
     ]
    }
   ],
   "source": [
    "for data in result:\n",
    "    print(data)"
   ]
  },
  {
   "cell_type": "code",
   "execution_count": 20,
   "id": "2ffb4e6e",
   "metadata": {},
   "outputs": [
    {
     "data": {
      "text/plain": [
       "{'_id': ObjectId('652a56115d62d863f39be5d1'),\n",
       " 'Name': 'Dharmik',\n",
       " 'Age': 20,\n",
       " 'State': 'Gujarat',\n",
       " 'City': 'Surat',\n",
       " 'Profile': 'Devloper',\n",
       " 'Salary': 110000,\n",
       " 'Experience': 3,\n",
       " 'Skills': ['PHP', 'MYSQL']}"
      ]
     },
     "execution_count": 20,
     "metadata": {},
     "output_type": "execute_result"
    }
   ],
   "source": [
    "emp_coll.find_one()"
   ]
  },
  {
   "cell_type": "code",
   "execution_count": 22,
   "id": "3067bb48",
   "metadata": {},
   "outputs": [
    {
     "data": {
      "text/plain": [
       "{'_id': ObjectId('652a562b5d62d863f39be5d3'),\n",
       " 'Name': 'Madhav',\n",
       " 'Age': 19,\n",
       " 'State': 'Ahemadabad',\n",
       " 'City': 'Nagrol',\n",
       " 'Profile': 'Devloper',\n",
       " 'Salary': 11000,\n",
       " 'Experience': 2,\n",
       " 'Skills': ['PHP', 'MYSQL', 'python']}"
      ]
     },
     "execution_count": 22,
     "metadata": {},
     "output_type": "execute_result"
    }
   ],
   "source": [
    "emp_coll.find_one({\"Name\":\"Madhav\"})"
   ]
  },
  {
   "cell_type": "code",
   "execution_count": 25,
   "id": "6001965a",
   "metadata": {},
   "outputs": [
    {
     "data": {
      "text/plain": [
       "16.666666666666668"
      ]
     },
     "execution_count": 25,
     "metadata": {},
     "output_type": "execute_result"
    }
   ],
   "source": [
    "import numpy as np\n",
    "data=[20,10,20]\n",
    "mean=sum(data)/len(data)\n",
    "mean"
   ]
  },
  {
   "cell_type": "code",
   "execution_count": 27,
   "id": "af2bd81e",
   "metadata": {},
   "outputs": [
    {
     "data": {
      "text/plain": [
       "numpy.ndarray"
      ]
     },
     "execution_count": 27,
     "metadata": {},
     "output_type": "execute_result"
    }
   ],
   "source": [
    "import numpy as np\n",
    "arr=np.array((1,2,3,4,5))\n",
    "type(arr)\n"
   ]
  },
  {
   "cell_type": "code",
   "execution_count": 3,
   "id": "4431d2e1",
   "metadata": {},
   "outputs": [
    {
     "name": "stdout",
     "output_type": "stream",
     "text": [
      "[[1 2 3]\n",
      " [1 2 5]]\n"
     ]
    }
   ],
   "source": [
    "import numpy as np\n",
    "arr=np.array([[1,2,3],[1,2,5]])\n",
    "type(arr)\n",
    "print(arr)"
   ]
  },
  {
   "cell_type": "code",
   "execution_count": 5,
   "id": "447ef2b8",
   "metadata": {},
   "outputs": [
    {
     "ename": "TypeError",
     "evalue": "Field elements must be 2- or 3-tuples, got '2'",
     "output_type": "error",
     "traceback": [
      "\u001b[1;31m---------------------------------------------------------------------------\u001b[0m",
      "\u001b[1;31mTypeError\u001b[0m                                 Traceback (most recent call last)",
      "Cell \u001b[1;32mIn[5], line 2\u001b[0m\n\u001b[0;32m      1\u001b[0m \u001b[38;5;28;01mimport\u001b[39;00m \u001b[38;5;21;01mnumpy\u001b[39;00m \u001b[38;5;28;01mas\u001b[39;00m \u001b[38;5;21;01mnp\u001b[39;00m\n\u001b[1;32m----> 2\u001b[0m arr\u001b[38;5;241m=\u001b[39mnp\u001b[38;5;241m.\u001b[39marray([[\u001b[38;5;241m1\u001b[39m,\u001b[38;5;241m2\u001b[39m,\u001b[38;5;241m3\u001b[39m],[\u001b[38;5;241m1\u001b[39m,\u001b[38;5;241m2\u001b[39m,\u001b[38;5;241m5\u001b[39m]],[\u001b[38;5;241m2\u001b[39m,\u001b[38;5;241m3\u001b[39m,\u001b[38;5;241m4\u001b[39m])\n\u001b[0;32m      3\u001b[0m \u001b[38;5;28mtype\u001b[39m(arr)\n\u001b[0;32m      4\u001b[0m \u001b[38;5;28mprint\u001b[39m(arr)\n",
      "\u001b[1;31mTypeError\u001b[0m: Field elements must be 2- or 3-tuples, got '2'"
     ]
    }
   ],
   "source": [
    "import numpy as np\n",
    "arr=np.array([[1,2,3],[1,2,5]],[2,3,4])\n",
    "type(arr)\n",
    "print(arr)"
   ]
  },
  {
   "cell_type": "code",
   "execution_count": 6,
   "id": "611c0a25",
   "metadata": {},
   "outputs": [],
   "source": [
    "import numpy as np"
   ]
  },
  {
   "cell_type": "code",
   "execution_count": null,
   "id": "69ecddaa",
   "metadata": {},
   "outputs": [],
   "source": [
    "a=np.array([1,2,3])\n",
    "np.save('output')"
   ]
  }
 ],
 "metadata": {
  "kernelspec": {
   "display_name": "Python 3 (ipykernel)",
   "language": "python",
   "name": "python3"
  },
  "language_info": {
   "codemirror_mode": {
    "name": "ipython",
    "version": 3
   },
   "file_extension": ".py",
   "mimetype": "text/x-python",
   "name": "python",
   "nbconvert_exporter": "python",
   "pygments_lexer": "ipython3",
   "version": "3.11.5"
  }
 },
 "nbformat": 4,
 "nbformat_minor": 5
}
