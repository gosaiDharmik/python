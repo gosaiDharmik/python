{
 "cells": [
  {
   "cell_type": "markdown",
   "id": "42f2e407",
   "metadata": {},
   "source": [
    "# Lab 2 - Perform Basic Python Operation"
   ]
  },
  {
   "cell_type": "markdown",
   "id": "4ea71be9",
   "metadata": {},
   "source": [
    "We will cover following topics\n",
    " \n",
    "    python Variable.\n",
    "    python data structure\n",
    "    "
   ]
  },
  {
   "cell_type": "code",
   "execution_count": 1,
   "id": "5e0ce7af",
   "metadata": {},
   "outputs": [
    {
     "name": "stdout",
     "output_type": "stream",
     "text": [
      "I am Dharmik Gosai\n"
     ]
    }
   ],
   "source": [
    "#print your name #single line commentx\n",
    "print(\"I am Dharmik Gosai\")"
   ]
  },
  {
   "cell_type": "markdown",
   "id": "9290a0a7",
   "metadata": {},
   "source": [
    "#  Python Variable\n"
   ]
  },
  {
   "cell_type": "markdown",
   "id": "4fe4b644",
   "metadata": {},
   "source": [
    "A Variable is a container which a store a value of a particuler memory.\n"
   ]
  },
  {
   "cell_type": "code",
   "execution_count": 5,
   "id": "f12635fd",
   "metadata": {},
   "outputs": [],
   "source": [
    "count = 100 #Int assignment\n",
    "Kilometers = 1000.0 #float assignment\n",
    "name= \"Dharmik\" #String assignment"
   ]
  },
  {
   "cell_type": "code",
   "execution_count": 6,
   "id": "0f063632",
   "metadata": {},
   "outputs": [
    {
     "name": "stdout",
     "output_type": "stream",
     "text": [
      "100 1000.0 Dharmik\n"
     ]
    }
   ],
   "source": [
    "print(count,Kilometers,name)"
   ]
  },
  {
   "cell_type": "code",
   "execution_count": 13,
   "id": "4c8d60ce",
   "metadata": {},
   "outputs": [
    {
     "name": "stdout",
     "output_type": "stream",
     "text": [
      "1,2,Dharmik\n"
     ]
    }
   ],
   "source": [
    "a,b,c=1,2,\"Dharmik\"\n",
    "print(a,b,c,sep=',')"
   ]
  },
  {
   "cell_type": "code",
   "execution_count": 15,
   "id": "db0b2c53",
   "metadata": {},
   "outputs": [],
   "source": [
    "a =\"Hellow World\" #string\n",
    "b = 20 #\n",
    "c =20.5\n",
    "d =1j\n",
    "e =[\"apple\",\"banana\",\"cherry\"]\n",
    "f =(\"apple\",\"banana\",\"cherry\")\n",
    "g = range(6)\n",
    "h = {\"name\":\"Dharmik\", \"age\":20}\n",
    "i = {\"apple\",\"banana\",\"cherry\"}\n",
    "j = frozenset({\"apple\",\"banana\",\"cherry\"})\n"
   ]
  },
  {
   "cell_type": "code",
   "execution_count": 16,
   "id": "1fa4e79d",
   "metadata": {},
   "outputs": [
    {
     "name": "stdout",
     "output_type": "stream",
     "text": [
      "<class 'str'>\n",
      "<class 'int'>\n",
      "<class 'float'>\n",
      "<class 'complex'>\n",
      "<class 'tuple'>\n",
      "<class 'range'>\n",
      "<class 'dict'>\n",
      "<class 'set'>\n",
      "<class 'frozenset'>\n"
     ]
    }
   ],
   "source": [
    "#print data type\n",
    "print(type(a))\n",
    "print(type(b))\n",
    "print(type(c))\n",
    "print(type(d))\n",
    "print(type(f))\n",
    "print(type(g))\n",
    "print(type(h))\n",
    "print(type(i))\n",
    "print(type(j))"
   ]
  },
  {
   "cell_type": "code",
   "execution_count": 1,
   "id": "32e25826",
   "metadata": {},
   "outputs": [
    {
     "data": {
      "text/plain": [
       "float"
      ]
     },
     "execution_count": 1,
     "metadata": {},
     "output_type": "execute_result"
    }
   ],
   "source": [
    "num1 = 3.14\n",
    "type(num1)"
   ]
  },
  {
   "cell_type": "code",
   "execution_count": 2,
   "id": "4a6cec4a",
   "metadata": {},
   "outputs": [
    {
     "data": {
      "text/plain": [
       "str"
      ]
     },
     "execution_count": 2,
     "metadata": {},
     "output_type": "execute_result"
    }
   ],
   "source": [
    "num2 = \"dhg\"\n",
    "type(num2)"
   ]
  },
  {
   "cell_type": "markdown",
   "id": "c5bf5d97",
   "metadata": {},
   "source": [
    "# Python String"
   ]
  },
  {
   "cell_type": "markdown",
   "id": "d5f92040",
   "metadata": {},
   "source": [
    "String is a group of character.\n",
    "String in python are identified as a contiguous set of character represented in the quotaion marks."
   ]
  },
  {
   "cell_type": "code",
   "execution_count": 4,
   "id": "378c4888",
   "metadata": {},
   "outputs": [
    {
     "name": "stdout",
     "output_type": "stream",
     "text": [
      "my name is dharmik\n"
     ]
    }
   ],
   "source": [
    "str1 = 'my name is dharmik'\n",
    "print(str1)"
   ]
  },
  {
   "cell_type": "code",
   "execution_count": 5,
   "id": "64111d0f",
   "metadata": {},
   "outputs": [
    {
     "name": "stdout",
     "output_type": "stream",
     "text": [
      "python is programming language\n"
     ]
    }
   ],
   "source": [
    "str1 = 'python is programming language'\n",
    "print(str1)"
   ]
  },
  {
   "cell_type": "code",
   "execution_count": 6,
   "id": "db407440",
   "metadata": {},
   "outputs": [
    {
     "name": "stdout",
     "output_type": "stream",
     "text": [
      "p\n",
      "h\n"
     ]
    }
   ],
   "source": [
    "print(str1[0])\n",
    "print(str1[3])"
   ]
  },
  {
   "cell_type": "code",
   "execution_count": 8,
   "id": "01374475",
   "metadata": {},
   "outputs": [
    {
     "name": "stdout",
     "output_type": "stream",
     "text": [
      "30\n"
     ]
    }
   ],
   "source": [
    "print(len(str1))"
   ]
  },
  {
   "cell_type": "code",
   "execution_count": 9,
   "id": "125ae51a",
   "metadata": {},
   "outputs": [
    {
     "name": "stdout",
     "output_type": "stream",
     "text": [
      "30\n"
     ]
    }
   ],
   "source": [
    "print(len(str1))"
   ]
  },
  {
   "cell_type": "code",
   "execution_count": 11,
   "id": "bb4f22f1",
   "metadata": {},
   "outputs": [
    {
     "name": "stdout",
     "output_type": "stream",
     "text": [
      "ytho\n"
     ]
    }
   ],
   "source": [
    "print(str1[1:5])"
   ]
  },
  {
   "cell_type": "code",
   "execution_count": 12,
   "id": "c4ee7cdd",
   "metadata": {},
   "outputs": [
    {
     "name": "stdout",
     "output_type": "stream",
     "text": [
      "e\n"
     ]
    }
   ],
   "source": [
    "print(str1[-1])"
   ]
  },
  {
   "cell_type": "code",
   "execution_count": 20,
   "id": "7e2c9df3",
   "metadata": {},
   "outputs": [
    {
     "name": "stdout",
     "output_type": "stream",
     "text": [
      "\n",
      "d g h\n"
     ]
    }
   ],
   "source": [
    "#python formate string\n",
    "string1 = \"{a} {c} {b}\".format(a='d',b='h',c='g')\n",
    "print(\"\")\n",
    "print(string1)"
   ]
  },
  {
   "cell_type": "code",
   "execution_count": 21,
   "id": "c4878ae2",
   "metadata": {},
   "outputs": [
    {
     "name": "stdout",
     "output_type": "stream",
     "text": [
      "princeis the student of my class\n"
     ]
    }
   ],
   "source": [
    "val = 'prince'\n",
    "print(f\"{val}is the student of my class\")"
   ]
  },
  {
   "cell_type": "code",
   "execution_count": 27,
   "id": "01100161",
   "metadata": {},
   "outputs": [
    {
     "name": "stdout",
     "output_type": "stream",
     "text": [
      "name is dhg and age 20\n"
     ]
    }
   ],
   "source": [
    "Name = 'Dhg'\n",
    "Age = 20\n",
    "print(f\"name is {name} and age {agr}\")"
   ]
  },
  {
   "cell_type": "code",
   "execution_count": 28,
   "id": "0c7a64d1",
   "metadata": {},
   "outputs": [
    {
     "name": "stdout",
     "output_type": "stream",
     "text": [
      "APPLE IS FRUIT\n"
     ]
    }
   ],
   "source": [
    "str1 = 'Apple is Fruit'\n",
    "print(str1.upper())"
   ]
  },
  {
   "cell_type": "code",
   "execution_count": 29,
   "id": "75b0148a",
   "metadata": {},
   "outputs": [
    {
     "name": "stdout",
     "output_type": "stream",
     "text": [
      "apple is fruit\n"
     ]
    }
   ],
   "source": [
    "str1 = 'Apple is Fruit'\n",
    "print(str1.lower())"
   ]
  },
  {
   "cell_type": "code",
   "execution_count": 31,
   "id": "34a36284",
   "metadata": {},
   "outputs": [
    {
     "name": "stdout",
     "output_type": "stream",
     "text": [
      "Apple Is Fruit\n"
     ]
    }
   ],
   "source": [
    "str1 = 'Apple is Fruit'\n",
    "print(str1.title())\n"
   ]
  },
  {
   "cell_type": "code",
   "execution_count": 32,
   "id": "a41f276d",
   "metadata": {},
   "outputs": [
    {
     "name": "stdout",
     "output_type": "stream",
     "text": [
      "Apple is fruit\n"
     ]
    }
   ],
   "source": [
    "str1 = 'Apple is Fruit'\n",
    "print(str1.capitalize())"
   ]
  },
  {
   "cell_type": "code",
   "execution_count": 36,
   "id": "6865b48c",
   "metadata": {},
   "outputs": [
    {
     "name": "stdout",
     "output_type": "stream",
     "text": [
      "['Apple', 'is', 'Fruit']\n",
      "['Apple', 'is', 'Fruit']\n",
      "AppleApple is FruitisApple is FruitFruit\n"
     ]
    }
   ],
   "source": [
    "str1 = 'Apple is Fruit'\n",
    "print(str1.split())\n",
    "s=(str1.split())\n",
    "print(s)\n",
    "k=(str1.join(s))\n",
    "print(k)"
   ]
  },
  {
   "cell_type": "markdown",
   "id": "c238a62b",
   "metadata": {},
   "source": [
    "# OPERATORS"
   ]
  },
  {
   "cell_type": "markdown",
   "id": "00b2c24d",
   "metadata": {},
   "source": [
    "1.Arithmetic Operator\n",
    "   "
   ]
  },
  {
   "cell_type": "code",
   "execution_count": 39,
   "id": "50657c47",
   "metadata": {},
   "outputs": [
    {
     "data": {
      "text/plain": [
       "91"
      ]
     },
     "execution_count": 39,
     "metadata": {},
     "output_type": "execute_result"
    }
   ],
   "source": [
    "5+3\n",
    "2+89\n"
   ]
  },
  {
   "cell_type": "markdown",
   "id": "b3c2701b",
   "metadata": {},
   "source": [
    "2 Assignment"
   ]
  },
  {
   "cell_type": "code",
   "execution_count": 41,
   "id": "75fb9e86",
   "metadata": {},
   "outputs": [
    {
     "name": "stdout",
     "output_type": "stream",
     "text": [
      "15\n"
     ]
    }
   ],
   "source": [
    "x=10\n",
    "x +=5\n",
    "print(x)"
   ]
  },
  {
   "cell_type": "markdown",
   "id": "a8abcd34",
   "metadata": {},
   "source": [
    "3 logical Operator"
   ]
  },
  {
   "cell_type": "code",
   "execution_count": 48,
   "id": "094fd06c",
   "metadata": {},
   "outputs": [
    {
     "name": "stdout",
     "output_type": "stream",
     "text": [
      "True\n"
     ]
    }
   ],
   "source": [
    "x=5\n",
    "print(x>3 and x<16)"
   ]
  },
  {
   "cell_type": "markdown",
   "id": "70fe5826",
   "metadata": {},
   "source": [
    "4.comparision operator"
   ]
  },
  {
   "cell_type": "code",
   "execution_count": 46,
   "id": "d3fc44b6",
   "metadata": {},
   "outputs": [
    {
     "name": "stdout",
     "output_type": "stream",
     "text": [
      "False\n"
     ]
    }
   ],
   "source": [
    "x=5\n",
    "y=7\n",
    "print(x==y)"
   ]
  },
  {
   "cell_type": "code",
   "execution_count": 49,
   "id": "555cded8",
   "metadata": {},
   "outputs": [
    {
     "data": {
      "text/plain": [
       "-1"
      ]
     },
     "execution_count": 49,
     "metadata": {},
     "output_type": "execute_result"
    }
   ],
   "source": [
    "8-9"
   ]
  },
  {
   "cell_type": "code",
   "execution_count": 50,
   "id": "af08b379",
   "metadata": {},
   "outputs": [
    {
     "data": {
      "text/plain": [
       "0"
      ]
     },
     "execution_count": 50,
     "metadata": {},
     "output_type": "execute_result"
    }
   ],
   "source": [
    "6*0"
   ]
  },
  {
   "cell_type": "code",
   "execution_count": 51,
   "id": "4bc5de68",
   "metadata": {},
   "outputs": [
    {
     "data": {
      "text/plain": [
       "2"
      ]
     },
     "execution_count": 51,
     "metadata": {},
     "output_type": "execute_result"
    }
   ],
   "source": [
    "#Float division\n",
    "10//4"
   ]
  },
  {
   "cell_type": "code",
   "execution_count": 52,
   "id": "3ad4e615",
   "metadata": {},
   "outputs": [
    {
     "data": {
      "text/plain": [
       "2.5"
      ]
     },
     "execution_count": 52,
     "metadata": {},
     "output_type": "execute_result"
    }
   ],
   "source": [
    "10/4"
   ]
  },
  {
   "cell_type": "code",
   "execution_count": 53,
   "id": "5cdfcf48",
   "metadata": {},
   "outputs": [
    {
     "data": {
      "text/plain": [
       "1"
      ]
     },
     "execution_count": 53,
     "metadata": {},
     "output_type": "execute_result"
    }
   ],
   "source": [
    "3//2"
   ]
  },
  {
   "cell_type": "code",
   "execution_count": 54,
   "id": "98de3e87",
   "metadata": {},
   "outputs": [
    {
     "data": {
      "text/plain": [
       "3"
      ]
     },
     "execution_count": 54,
     "metadata": {},
     "output_type": "execute_result"
    }
   ],
   "source": [
    "#modulo\n",
    "7%4"
   ]
  },
  {
   "cell_type": "code",
   "execution_count": 55,
   "id": "9feb236e",
   "metadata": {},
   "outputs": [
    {
     "data": {
      "text/plain": [
       "8"
      ]
     },
     "execution_count": 55,
     "metadata": {},
     "output_type": "execute_result"
    }
   ],
   "source": [
    "2**3\n"
   ]
  },
  {
   "cell_type": "code",
   "execution_count": 56,
   "id": "e69142d2",
   "metadata": {},
   "outputs": [
    {
     "data": {
      "text/plain": [
       "(1, 5)"
      ]
     },
     "execution_count": 56,
     "metadata": {},
     "output_type": "execute_result"
    }
   ],
   "source": [
    "4**0,5"
   ]
  },
  {
   "cell_type": "code",
   "execution_count": 57,
   "id": "53121829",
   "metadata": {},
   "outputs": [
    {
     "data": {
      "text/plain": [
       "2.0"
      ]
     },
     "execution_count": 57,
     "metadata": {},
     "output_type": "execute_result"
    }
   ],
   "source": [
    "4**0.5\n"
   ]
  },
  {
   "cell_type": "code",
   "execution_count": 58,
   "id": "a9163c24",
   "metadata": {},
   "outputs": [
    {
     "data": {
      "text/plain": [
       "156"
      ]
     },
     "execution_count": 58,
     "metadata": {},
     "output_type": "execute_result"
    }
   ],
   "source": [
    "13*12"
   ]
  },
  {
   "cell_type": "code",
   "execution_count": 59,
   "id": "11675733",
   "metadata": {},
   "outputs": [
    {
     "name": "stdout",
     "output_type": "stream",
     "text": [
      "enter the value of x10\n"
     ]
    }
   ],
   "source": [
    "x=int(input(\"enter the value of x\"))"
   ]
  },
  {
   "cell_type": "code",
   "execution_count": 61,
   "id": "a1510fe8",
   "metadata": {},
   "outputs": [
    {
     "name": "stdout",
     "output_type": "stream",
     "text": [
      "enter the value of xdharmik\n"
     ]
    }
   ],
   "source": [
    "x=str(input(\"enter the value of x\"))"
   ]
  },
  {
   "cell_type": "code",
   "execution_count": 64,
   "id": "96d4a3db",
   "metadata": {},
   "outputs": [
    {
     "name": "stdout",
     "output_type": "stream",
     "text": [
      "enter the value of 30\n"
     ]
    }
   ],
   "source": [
    "y=int(input(\"enter the value of \"))"
   ]
  },
  {
   "cell_type": "code",
   "execution_count": 67,
   "id": "7d4d9997",
   "metadata": {},
   "outputs": [
    {
     "name": "stdout",
     "output_type": "stream",
     "text": [
      "600\n"
     ]
    }
   ],
   "source": [
    "z=x*y\n",
    "print(z)"
   ]
  },
  {
   "cell_type": "markdown",
   "id": "f3d8b1f5",
   "metadata": {},
   "source": [
    "python version Check in notebook"
   ]
  },
  {
   "cell_type": "code",
   "execution_count": 70,
   "id": "d4ac0975",
   "metadata": {},
   "outputs": [
    {
     "ename": "ModuleNotFoundError",
     "evalue": "No module named 'platfrom'",
     "output_type": "error",
     "traceback": [
      "\u001b[1;31m---------------------------------------------------------------------------\u001b[0m",
      "\u001b[1;31mModuleNotFoundError\u001b[0m                       Traceback (most recent call last)",
      "Cell \u001b[1;32mIn[70], line 1\u001b[0m\n\u001b[1;32m----> 1\u001b[0m \u001b[38;5;28;01mfrom\u001b[39;00m \u001b[38;5;21;01mplatfrom\u001b[39;00m \u001b[38;5;28;01mimport\u001b[39;00m python_version\n\u001b[0;32m      2\u001b[0m \u001b[38;5;28mprint\u001b[39m(python_version())\n",
      "\u001b[1;31mModuleNotFoundError\u001b[0m: No module named 'platfrom'"
     ]
    }
   ],
   "source": [
    "from platfrom import python_version\n",
    "print(python_version())"
   ]
  },
  {
   "cell_type": "code",
   "execution_count": 3,
   "id": "6642d2f7",
   "metadata": {},
   "outputs": [
    {
     "name": "stdout",
     "output_type": "stream",
     "text": [
      "3.11.5\n"
     ]
    }
   ],
   "source": [
    "from platform import python_version\n",
    "print(python_version())"
   ]
  },
  {
   "cell_type": "code",
   "execution_count": 2,
   "id": "c25a7a1d",
   "metadata": {},
   "outputs": [
    {
     "name": "stdout",
     "output_type": "stream",
     "text": [
      "<class 'bool'>\n",
      "<class 'bool'>\n"
     ]
    }
   ],
   "source": [
    "var1= True\n",
    "var2= False\n",
    "print(type(var1))\n",
    "print(type(var2))"
   ]
  },
  {
   "cell_type": "code",
   "execution_count": 11,
   "id": "d31350f7",
   "metadata": {},
   "outputs": [
    {
     "name": "stdout",
     "output_type": "stream",
     "text": [
      "Gujarat   University\n"
     ]
    }
   ],
   "source": [
    "str1=\"Gujarat\"\n",
    "str2=\"   University\"\n",
    "str3= str1 + str2\n",
    "print(str3)"
   ]
  },
  {
   "cell_type": "code",
   "execution_count": 23,
   "id": "7b0b99b2",
   "metadata": {},
   "outputs": [
    {
     "name": "stdout",
     "output_type": "stream",
     "text": [
      "GujaratGujaratGujaratGujaratGujaratGujaratGujaratGujarat\n"
     ]
    }
   ],
   "source": [
    "str1=\"Gujarat\"\n",
    "str2=\"University\"\n",
    "str3= str1 + str2\n",
    "str4=str1*8\n",
    "print(str4 )"
   ]
  },
  {
   "cell_type": "code",
   "execution_count": null,
   "id": "75a51f9a",
   "metadata": {},
   "outputs": [],
   "source": []
  }
 ],
 "metadata": {
  "kernelspec": {
   "display_name": "Python 3 (ipykernel)",
   "language": "python",
   "name": "python3"
  },
  "language_info": {
   "codemirror_mode": {
    "name": "ipython",
    "version": 3
   },
   "file_extension": ".py",
   "mimetype": "text/x-python",
   "name": "python",
   "nbconvert_exporter": "python",
   "pygments_lexer": "ipython3",
   "version": "3.11.5"
  }
 },
 "nbformat": 4,
 "nbformat_minor": 5
}
