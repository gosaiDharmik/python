{
 "cells": [
  {
   "cell_type": "markdown",
   "id": "f081b931",
   "metadata": {},
   "source": [
    "#  Exception and Error Handling in python"
   ]
  },
  {
   "cell_type": "markdown",
   "id": "b58c1cee",
   "metadata": {},
   "source": [
    "# Try block"
   ]
  },
  {
   "cell_type": "code",
   "execution_count": 1,
   "id": "694c73bc",
   "metadata": {},
   "outputs": [
    {
     "name": "stdout",
     "output_type": "stream",
     "text": [
      "Here an exception occurred\n"
     ]
    }
   ],
   "source": [
    "try:\n",
    "    print(x)\n",
    "except:\n",
    "    print(\"Here an exception occurred\")"
   ]
  },
  {
   "cell_type": "code",
   "execution_count": 10,
   "id": "a24b6170",
   "metadata": {},
   "outputs": [
    {
     "name": "stdout",
     "output_type": "stream",
     "text": [
      "Yeah Your name is:  1\n"
     ]
    }
   ],
   "source": [
    "def divide(x,y):\n",
    "    try:\n",
    "        result=x//y\n",
    "        print(\"Yeah Your name is: \",result)\n",
    "    except:\n",
    "         print(\"Sorry is not divided by zero \")\n",
    "divide(3,2)"
   ]
  },
  {
   "cell_type": "code",
   "execution_count": 11,
   "id": "40bdce6c",
   "metadata": {},
   "outputs": [
    {
     "name": "stdout",
     "output_type": "stream",
     "text": [
      "Sorry is not divided by zero \n"
     ]
    }
   ],
   "source": [
    "def divide(x,y):\n",
    "    try:\n",
    "        result=x//y\n",
    "        print(\"Yeah Your name is: \",result)\n",
    "    except:\n",
    "         print(\"Sorry is not divided by zero \")\n",
    "divide(3,0)"
   ]
  },
  {
   "cell_type": "code",
   "execution_count": 13,
   "id": "ab529a89",
   "metadata": {},
   "outputs": [
    {
     "name": "stdout",
     "output_type": "stream",
     "text": [
      "-5.0\n",
      "a/b result in 0\n"
     ]
    }
   ],
   "source": [
    "def AbyB(a,b):\n",
    "    try:\n",
    "        c=((a+b)//(a-b))\n",
    "    except ZeroDivisionError:\n",
    "        print(\"a/b result in 0\")\n",
    "    else:\n",
    "        print(c)\n",
    "AbyB(2.0,3.0)\n",
    "AbyB(3.0,3.0)"
   ]
  },
  {
   "cell_type": "code",
   "execution_count": 14,
   "id": "de4e966e",
   "metadata": {},
   "outputs": [
    {
     "data": {
      "text/plain": [
       "-5"
      ]
     },
     "execution_count": 14,
     "metadata": {},
     "output_type": "execute_result"
    }
   ],
   "source": [
    "5//-1"
   ]
  },
  {
   "cell_type": "markdown",
   "id": "202648d8",
   "metadata": {},
   "source": [
    "# Finally Block"
   ]
  },
  {
   "cell_type": "markdown",
   "id": "1a94ffc8",
   "metadata": {},
   "source": [
    "# Try-Except-Finally Block"
   ]
  },
  {
   "cell_type": "code",
   "execution_count": 15,
   "id": "c860abcd",
   "metadata": {},
   "outputs": [
    {
     "name": "stdout",
     "output_type": "stream",
     "text": [
      "can't divided by 0\n",
      "This is always executed\n"
     ]
    }
   ],
   "source": [
    "try:\n",
    "    k=5//0\n",
    "    print(k)\n",
    "except ZeroDivisionError:\n",
    "    print(\"can't divided by 0\")\n",
    "finally:\n",
    "    print(\"This is always executed\")"
   ]
  },
  {
   "cell_type": "code",
   "execution_count": 16,
   "id": "ea1fcadc",
   "metadata": {},
   "outputs": [
    {
     "ename": "ModuleNotFoundError",
     "evalue": "No module named 'kemcho'",
     "output_type": "error",
     "traceback": [
      "\u001b[1;31m---------------------------------------------------------------------------\u001b[0m",
      "\u001b[1;31mModuleNotFoundError\u001b[0m                       Traceback (most recent call last)",
      "Cell \u001b[1;32mIn[16], line 1\u001b[0m\n\u001b[1;32m----> 1\u001b[0m \u001b[38;5;28;01mimport\u001b[39;00m \u001b[38;5;21;01mkemcho\u001b[39;00m\n",
      "\u001b[1;31mModuleNotFoundError\u001b[0m: No module named 'kemcho'"
     ]
    }
   ],
   "source": [
    "import kemcho"
   ]
  },
  {
   "cell_type": "code",
   "execution_count": 17,
   "id": "c6d73202",
   "metadata": {},
   "outputs": [
    {
     "ename": "NameError",
     "evalue": "name 'AGE' is not defined",
     "output_type": "error",
     "traceback": [
      "\u001b[1;31m---------------------------------------------------------------------------\u001b[0m",
      "\u001b[1;31mNameError\u001b[0m                                 Traceback (most recent call last)",
      "Cell \u001b[1;32mIn[17], line 1\u001b[0m\n\u001b[1;32m----> 1\u001b[0m AGE\n",
      "\u001b[1;31mNameError\u001b[0m: name 'AGE' is not defined"
     ]
    }
   ],
   "source": [
    "AGE"
   ]
  },
  {
   "cell_type": "code",
   "execution_count": 18,
   "id": "0c9ae42e",
   "metadata": {},
   "outputs": [
    {
     "ename": "TypeError",
     "evalue": "can only concatenate str (not \"int\") to str",
     "output_type": "error",
     "traceback": [
      "\u001b[1;31m---------------------------------------------------------------------------\u001b[0m",
      "\u001b[1;31mTypeError\u001b[0m                                 Traceback (most recent call last)",
      "Cell \u001b[1;32mIn[18], line 1\u001b[0m\n\u001b[1;32m----> 1\u001b[0m \u001b[38;5;124m'\u001b[39m\u001b[38;5;124m2\u001b[39m\u001b[38;5;124m'\u001b[39m\u001b[38;5;241m+\u001b[39m\u001b[38;5;241m2\u001b[39m\n",
      "\u001b[1;31mTypeError\u001b[0m: can only concatenate str (not \"int\") to str"
     ]
    }
   ],
   "source": [
    "'2'+2"
   ]
  },
  {
   "cell_type": "code",
   "execution_count": 19,
   "id": "f5996868",
   "metadata": {},
   "outputs": [
    {
     "data": {
      "text/plain": [
       "'2+2'"
      ]
     },
     "execution_count": 19,
     "metadata": {},
     "output_type": "execute_result"
    }
   ],
   "source": [
    "'2+2'"
   ]
  },
  {
   "cell_type": "code",
   "execution_count": 20,
   "id": "d0e76846",
   "metadata": {},
   "outputs": [
    {
     "ename": "SyntaxError",
     "evalue": "cannot assign to literal here. Maybe you meant '==' instead of '='? (3245952774.py, line 1)",
     "output_type": "error",
     "traceback": [
      "\u001b[1;36m  Cell \u001b[1;32mIn[20], line 1\u001b[1;36m\u001b[0m\n\u001b[1;33m    '2'=2\u001b[0m\n\u001b[1;37m    ^\u001b[0m\n\u001b[1;31mSyntaxError\u001b[0m\u001b[1;31m:\u001b[0m cannot assign to literal here. Maybe you meant '==' instead of '='?\n"
     ]
    }
   ],
   "source": [
    "'2'=2"
   ]
  },
  {
   "cell_type": "code",
   "execution_count": 28,
   "id": "58197447",
   "metadata": {},
   "outputs": [
    {
     "name": "stdout",
     "output_type": "stream",
     "text": [
      " prees 1 Adition \n",
      " prees 2 Adition \n",
      " prees 3 Adition \n",
      " prees 4 Adition \n",
      "Enter a number10\n",
      "Enter b number20\n",
      "Enter e Choice1\n",
      "Addition is: {30}\n"
     ]
    }
   ],
   "source": [
    "def ans(a,b):\n",
    "    add= a+b\n",
    "    mul= a*b\n",
    "    sub= a-b\n",
    "    div= a/b\n",
    "    \n",
    "    if n==1:\n",
    "        print(\"Addition is:\",{add})\n",
    "    elif n==2:\n",
    "        print(\"Subtraction is:\",{sub})\n",
    "    elif n==3:\n",
    "        print(\"Multiplation is:\",{mul})\n",
    "    else:\n",
    "        print(\"Devision is:\",{div})\n",
    "print(\" prees 1 Adition \")\n",
    "print(\" prees 2 Adition \") \n",
    "print(\" prees 3 Adition \")\n",
    "print(\" prees 4 Adition \")\n",
    "    \n",
    "a=int(input(\"Enter a number\"))\n",
    "b=int(input(\"Enter b number\"))\n",
    "n=int(input(\"Enter e Choice\"))\n",
    "ans(a,b)\n",
    "    \n",
    "    "
   ]
  },
  {
   "cell_type": "code",
   "execution_count": null,
   "id": "c8cc01ea",
   "metadata": {},
   "outputs": [],
   "source": []
  }
 ],
 "metadata": {
  "kernelspec": {
   "display_name": "Python 3 (ipykernel)",
   "language": "python",
   "name": "python3"
  },
  "language_info": {
   "codemirror_mode": {
    "name": "ipython",
    "version": 3
   },
   "file_extension": ".py",
   "mimetype": "text/x-python",
   "name": "python",
   "nbconvert_exporter": "python",
   "pygments_lexer": "ipython3",
   "version": "3.11.5"
  }
 },
 "nbformat": 4,
 "nbformat_minor": 5
}
