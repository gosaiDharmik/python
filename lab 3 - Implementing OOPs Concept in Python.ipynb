{
 "cells": [
  {
   "cell_type": "markdown",
   "id": "f8beed86",
   "metadata": {},
   "source": [
    "# lab 3 - Implementing OOPs Concept in Python "
   ]
  },
  {
   "cell_type": "code",
   "execution_count": 5,
   "id": "57b9dc09",
   "metadata": {},
   "outputs": [
    {
     "name": "stdout",
     "output_type": "stream",
     "text": [
      "HELLO MY NAME IS: Dharmik\n"
     ]
    }
   ],
   "source": [
    "class person:\n",
    "    def __init__(mysillyobject,name,age):\n",
    "        mysillyobject.name=name\n",
    "        mysillyobject.age=age\n",
    "    def myfunc(abc):\n",
    "        print(\"HELLO MY NAME IS: \" +abc.name)\n",
    "        \n",
    "p1 = person(\"Dharmik\",36)\n",
    "p1.myfunc()\n",
    "    "
   ]
  },
  {
   "cell_type": "markdown",
   "id": "a2417402",
   "metadata": {},
   "source": [
    "# single inheritance"
   ]
  },
  {
   "cell_type": "code",
   "execution_count": 6,
   "id": "730a572d",
   "metadata": {},
   "outputs": [
    {
     "name": "stdout",
     "output_type": "stream",
     "text": [
      "Frist Function\n",
      "Second Function\n"
     ]
    }
   ],
   "source": [
    "class parent():\n",
    "    def first(self):\n",
    "        print(\"Frist Function\")\n",
    "class child(parent):\n",
    "    def second(self):\n",
    "        print(\"Second Function\")\n",
    "ob = child()\n",
    "ob.first()\n",
    "ob.second()\n"
   ]
  },
  {
   "cell_type": "markdown",
   "id": "65cf2271",
   "metadata": {},
   "source": [
    "# Multiple inheritance"
   ]
  },
  {
   "cell_type": "code",
   "execution_count": 13,
   "id": "80186f94",
   "metadata": {},
   "outputs": [
    {
     "name": "stdout",
     "output_type": "stream",
     "text": [
      "Frist Function\n",
      "second Function\n",
      "third Function\n"
     ]
    }
   ],
   "source": [
    "class parent():\n",
    "    def first(self):\n",
    "        print(\"Frist Function\")\n",
    "class parent2():\n",
    "    def second(self):\n",
    "        print(\"second Function\")\n",
    "class child(parent,parent2):\n",
    "    def third(self):\n",
    "        print(\"third Function\")\n",
    "ob = child()\n",
    "ob.first()\n",
    "ob.second()\n",
    "ob.third()"
   ]
  },
  {
   "cell_type": "markdown",
   "id": "d10a05fd",
   "metadata": {},
   "source": [
    "# Multileval Inheritance"
   ]
  },
  {
   "cell_type": "code",
   "execution_count": 12,
   "id": "0138335f",
   "metadata": {},
   "outputs": [
    {
     "name": "stdout",
     "output_type": "stream",
     "text": [
      "Frist Function\n",
      "second Function\n",
      "third Function\n"
     ]
    }
   ],
   "source": [
    "class parent():\n",
    "    def first(self):\n",
    "        print(\"Frist Function\")\n",
    "class parent2(parent):\n",
    "    def second(self):\n",
    "        print(\"second Function\")\n",
    "class child(parent2):\n",
    "    def third(self):\n",
    "        print(\"third Function\")\n",
    "ob = child()\n",
    "ob.first()\n",
    "ob.second()\n",
    "ob.third()"
   ]
  },
  {
   "cell_type": "markdown",
   "id": "376027b1",
   "metadata": {},
   "source": [
    "# init"
   ]
  },
  {
   "cell_type": "code",
   "execution_count": 16,
   "id": "d333a64a",
   "metadata": {},
   "outputs": [
    {
     "name": "stdout",
     "output_type": "stream",
     "text": [
      "prince teacher computer science\n"
     ]
    }
   ],
   "source": [
    "class teacher:\n",
    "    def __init__(self,name,subject):\n",
    "        self.name= name\n",
    "        self.subject=subject\n",
    "    def show(self):\n",
    "        print(self.name,\"teacher\",self.subject)\n",
    "T=teacher('prince',\"computer science\")\n",
    "T.show()"
   ]
  },
  {
   "cell_type": "markdown",
   "id": "ceff55cb",
   "metadata": {},
   "source": [
    "# Hierarchical Inheritance"
   ]
  },
  {
   "cell_type": "code",
   "execution_count": 25,
   "id": "869d2961",
   "metadata": {},
   "outputs": [
    {
     "name": "stdout",
     "output_type": "stream",
     "text": [
      "Frist Function\n",
      "second Function\n",
      "Frist Function\n",
      "third Function\n"
     ]
    }
   ],
   "source": [
    "class parent():\n",
    "    def first(self):\n",
    "        print(\"Frist Function\")\n",
    "class child(parent):\n",
    "    def second(self):\n",
    "        print(\"second Function\")\n",
    "class child1(parent):\n",
    "    def third(self):\n",
    "        print(\"third Function\")\n",
    "ob = child1()\n",
    "obj=child()\n",
    "obj.first()\n",
    "obj.second()\n",
    "ob.first()\n",
    "ob.third()"
   ]
  },
  {
   "cell_type": "code",
   "execution_count": null,
   "id": "26efa0aa",
   "metadata": {},
   "outputs": [],
   "source": []
  }
 ],
 "metadata": {
  "kernelspec": {
   "display_name": "Python 3 (ipykernel)",
   "language": "python",
   "name": "python3"
  },
  "language_info": {
   "codemirror_mode": {
    "name": "ipython",
    "version": 3
   },
   "file_extension": ".py",
   "mimetype": "text/x-python",
   "name": "python",
   "nbconvert_exporter": "python",
   "pygments_lexer": "ipython3",
   "version": "3.11.5"
  }
 },
 "nbformat": 4,
 "nbformat_minor": 5
}
